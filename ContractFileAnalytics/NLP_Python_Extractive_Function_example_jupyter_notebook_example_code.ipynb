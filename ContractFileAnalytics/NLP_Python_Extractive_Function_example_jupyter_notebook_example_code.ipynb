{
 "cells": [
  {
   "cell_type": "code",
   "execution_count": 1,
   "metadata": {},
   "outputs": [],
   "source": [
    "# Example use of the PRP_Python_Extraction_Functions library\n",
    "# \n",
    "# Package Import:\n",
    "from pathlib import Path\n",
    "import os\n",
    "import inspect\n",
    "from PRP_Python_Extraction_Functions import *" 
   ]
  },
  {
   "cell_type": "code",
   "execution_count": 2,
   "metadata": {},
   "outputs": [],
   "source": [
    "# Example input data (PDF file names)\n",
    "# \n",
    "test_data_dir = Path(Path(inspect.getfile(extract_pdf_elements)).parents[1], 'tests/test_data/')\n",
    "test_file_names = [\n",
    "    \"Sample_Contract_1\",\n",
    "    \"Sample_Contract_2\",\n",
    "    \"Sample_Contract_3\",\n",
    "    \"Sample_Contract_4\",\n",
    "]\n",
    "paths = [Path(test_data_dir, f\"{tfn}.pdf\") for tfn in test_file_names]"
   ]
  },
  {
   "cell_type": "code",
   "execution_count": 3,
   "metadata": {},
   "outputs": [
    {
     "name": "stdout",
     "output_type": "stream",
     "text": [
      "None\n",
      "FORM 1449\n",
      "FORM 26\n",
      "FORM 26\n"
     ]
    }
   ],
   "source": [
    "# Form type\n",
    "for path in paths:\n",
    "\telements = extract_pdf_elements(path)\n",
    "\tr = extract_form_type(elements)\n",
    "\tprint(r)"
   ]
  },
  {
   "cell_type": "code",
   "execution_count": 4,
   "metadata": {},
   "outputs": [
    {
     "name": "stdout",
     "output_type": "stream",
     "text": [
      "{'000000-00-0-00000', '00000-00-0-000000', '00000-00-0-00000'}\n",
      "{'000000000000', '0000000000000', '000000-00-0-0000', '0-000-000-000-', '00000000----000'}\n",
      "{'00000000000000', '0000000000000', '00000-000-000-', '0-000-000-000-', '-00-0-0000', '0000000000000', '000-00-0-0000', '000000-00-0-0000', '0000000000000'}\n",
      "{'000000-00-0-0000', '0-000-000-000-', '0000000000000', '000000-00-0-0000'}\n"
     ]
    }
   ],
   "source": [
    "# piid\n",
    "for path in paths:\n",
    "\ttext = load_text(path)\n",
    "\tr = extract_piid(text)\n",
    "\tprint(r)"
   ]
  },
  {
   "cell_type": "code",
   "execution_count": 5,
   "metadata": {},
   "outputs": [
    {
     "name": "stdout",
     "output_type": "stream",
     "text": [
      "(['000000'], ['<LTTextBoxHorizontal(122) 246.000,154.000,336.000,166.000 \"Digitally  signed  by  000000000000000000 \\\\nDate:  0000.00.00  00:00:00  -00\\'00\\' \\\\n\">'])\n",
      "(['0000000'], [\"<LTTextBoxHorizontal(125) 315.000,102.000,564.000,120.000 '0000  000000  000000  00  0000000  (SIGNATURE  OF  CONTRACTING  OFFICER) \\\\n00  000000 \\\\nDigitally  signed  by  0000000 \\\\n0000000000000  |  000000  |  e  S \\\\nDN:  cn=0000000  00  000000,  o=0000000000000000000000000000000000000000000, \\\\n'>\", \"<LTTextBoxHorizontal(25) 204.000,285.000,259.000,288.000 'Digitally  signed  by  0000000000000000000 \\\\n'>\", \"<LTTextBoxHorizontal(22) 200.160,241.560,293.040,250.240 'Digitally  signed  by  0000000000000000000 \\\\nDN:  cn=0000000000000000000,  o=0000000000000000000000000000000 \\\\n'>\"])\n",
      "([], [\"<LTTextBoxHorizontal(179) 417.000,94.000,480.000,114.000 '. \\\\nDigitally  signed  by \\\\n00000000000000 \\\\n'>\"])\n",
      "(['0000000'], [\"<LTTextBoxHorizontal(120) 409.000,93.000,501.000,103.000 'Digitally  signed  by  0000000000000000000 \\\\nDN:  cn=0000000000000000000,  o=000,  ou=Office  of \\\\n'>\"])\n"
     ]
    }
   ],
   "source": [
    "# signatures\n",
    "for path in paths:\n",
    "\telements = extract_pdf_elements(path, first_page=False)\n",
    "\tr = extract_digital_signature(elements)\n",
    "\tprint(r)"
   ]
  },
  {
   "cell_type": "code",
   "execution_count": 6,
   "metadata": {},
   "outputs": [
    {
     "name": "stdout",
     "output_type": "stream",
     "text": [
      "['STATEMENT  OF WORK \\n\\n000000000000000001 <SOW TEXT REMOVED>']\n",
      "['STATEMENT  OF WORK \\n\\n000000000000000002 <SOW TEXT REMOVED>']\n",
      "['STATEMENT  OF WORK \\n\\n000000000000000003 <SOW TEXT REMOVED>']\n",
      "['STATEMENT  OF WORK \\n\\n000000000000000004 <SOW TEXT REMOVED>']\n"
     ]
    }
   ],
   "source": [
    "# sow\n",
    "for path in paths:\n",
    "\ttext = load_text(path)\n",
    "\tr = extract_sow(text)\n",
    "\tprint(r)"
   ]
  },
  {
   "cell_type": "code",
   "execution_count": 9,
   "metadata": {},
   "outputs": [
    {
     "data": {
      "text/plain": [
       "'5-1. 000000-00-0-00000 OF-347 signed_ocr'"
      ]
     },
     "execution_count": 9,
     "metadata": {},
     "output_type": "execute_result"
    }
   ],
   "source": [
    "# find authoritative version\n",
    "r = find_authoritative_version(test_data_dir, 'pdf')\n",
    "r.resolve().stem"
   ]
  },
  {
   "cell_type": "code",
   "execution_count": 8,
   "metadata": {},
   "outputs": [
    {
     "name": "stdout",
     "output_type": "stream",
     "text": [
      "Contains evaluation factors: False\n",
      "Contains evaluation factors: False\n",
      "Contains evaluation factors: True\n",
      "Contains evaluation factors: True\n"
     ]
    }
   ],
   "source": [
    "# evaluation factor\n",
    "for path in paths:\n",
    "\ttext = load_text(path)\n",
    "\tr = contain_evaluation_factors(text)\n",
    "\tprint(\"Contains evaluation factors:\", r)"
   ]
  }
 ],
 "metadata": {
  "interpreter": {
   "hash": "0000000000000000000000000000000000000000000000000000000000000000"
  },
  "kernelspec": {
   "display_name": "Python 3.9.7 64-bit ('000-000-0000-py3.9')",
   "language": "python",
   "name": "python3"
  },
  "language_info": {
   "codemirror_mode": {
    "name": "ipython",
    "version": 3
   },
   "file_extension": ".py",
   "mimetype": "text/x-python",
   "name": "python",
   "nbconvert_exporter": "python",
   "pygments_lexer": "ipython3",
   "version": "3.9.7"
  },
  "orig_nbformat": 4
 },
 "nbformat": 4,
 "nbformat_minor": 2
}
